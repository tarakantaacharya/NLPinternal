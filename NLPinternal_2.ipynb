{
  "nbformat": 4,
  "nbformat_minor": 0,
  "metadata": {
    "colab": {
      "provenance": [],
      "authorship_tag": "ABX9TyOaPHi/GGL/hfexz3+n/IlB",
      "include_colab_link": true
    },
    "kernelspec": {
      "name": "python3",
      "display_name": "Python 3"
    },
    "language_info": {
      "name": "python"
    }
  },
  "cells": [
    {
      "cell_type": "markdown",
      "metadata": {
        "id": "view-in-github",
        "colab_type": "text"
      },
      "source": [
        "<a href=\"https://colab.research.google.com/github/tarakantaacharya/NLPinternal/blob/main/NLPinternal_2.ipynb\" target=\"_parent\"><img src=\"https://colab.research.google.com/assets/colab-badge.svg\" alt=\"Open In Colab\"/></a>"
      ]
    },
    {
      "cell_type": "markdown",
      "source": [
        "7th week"
      ],
      "metadata": {
        "id": "Oc_dFc57P2-4"
      }
    },
    {
      "cell_type": "code",
      "execution_count": 3,
      "metadata": {
        "colab": {
          "base_uri": "https://localhost:8080/"
        },
        "id": "dvYkLPZAORoq",
        "outputId": "4ec084e3-b0a0-4d70-c8cc-62445715cacc"
      },
      "outputs": [
        {
          "output_type": "stream",
          "name": "stderr",
          "text": [
            "[nltk_data] Downloading package stopwords to /root/nltk_data...\n",
            "[nltk_data]   Package stopwords is already up-to-date!\n",
            "[nltk_data] Downloading package punkt_tab to /root/nltk_data...\n",
            "[nltk_data]   Unzipping tokenizers/punkt_tab.zip.\n"
          ]
        },
        {
          "output_type": "stream",
          "name": "stdout",
          "text": [
            "Top 50 non-stop words: [('sample', 2), ('repeated', 2), ('words', 2), ('text', 1), ('many', 1)]\n"
          ]
        }
      ],
      "source": [
        "import nltk\n",
        "from nltk.corpus import stopwords\n",
        "from collections import Counter\n",
        "\n",
        "nltk.download('stopwords')\n",
        "nltk.download('punkt_tab')\n",
        "\n",
        "def find_top_50_non_stopwords(text):\n",
        "  stop_words = set(stopwords.words('english'))\n",
        "  words = nltk.word_tokenize(text)\n",
        "  filtered_words = [word.lower() for word in words if word.lower() not in stop_words and word.isalpha()]\n",
        "  word_counts = Counter(filtered_words)\n",
        "  top_50_words = word_counts.most_common(50)\n",
        "  return top_50_words\n",
        "\n",
        "# Example usage:\n",
        "text = \"This is a sample text with some repeated words. This sample has many repeated words.\"\n",
        "top_50_words = find_top_50_non_stopwords(text)\n",
        "print(\"Top 50 non-stop words:\", top_50_words)"
      ]
    },
    {
      "cell_type": "markdown",
      "source": [
        "8th week"
      ],
      "metadata": {
        "id": "SdXiNxP6P5gB"
      }
    },
    {
      "cell_type": "code",
      "source": [
        "import nltk\n",
        "from nltk.stem import PorterStemmer, LancasterStemmer, SnowballStemmer\n",
        "from nltk.stem import RegexpStemmer\n",
        "from nltk.corpus import stopwords\n",
        "import matplotlib.pyplot as plt\n",
        "\n",
        "nltk.download('punkt')\n",
        "\n",
        "# List of words for stemming\n",
        "words = [\n",
        "    \"running\", \"jumps\", \"easily\", \"flies\", \"happiness\",\n",
        "    \"runners\", \"studies\", \"studying\", \"played\", \"playful\"\n",
        "]\n",
        "\n",
        "# Initialize stemmers\n",
        "porter_stemmer = PorterStemmer()\n",
        "lancaster_stemmer = LancasterStemmer()\n",
        "snowball_stemmer = SnowballStemmer(\"english\")\n",
        "regexp_stemmer = RegexpStemmer(r'^(.*?)(ing|es|ed)$')\n",
        "\n",
        "# Stemming functions\n",
        "def stem_using_porter(words):\n",
        "    return [porter_stemmer.stem(word) for word in words]\n",
        "\n",
        "def stem_using_lancaster(words):\n",
        "    return [lancaster_stemmer.stem(word) for word in words]\n",
        "\n",
        "def stem_using_snowball(words):\n",
        "    return [snowball_stemmer.stem(word) for word in words]\n",
        "\n",
        "def stem_using_regexp(words):\n",
        "    return [regexp_stemmer.stem(word) for word in words]\n",
        "\n",
        "# Apply stemming methods\n",
        "porter_results = stem_using_porter(words)\n",
        "lancaster_results = stem_using_lancaster(words)\n",
        "snowball_results = stem_using_snowball(words)\n",
        "regexp_results = stem_using_regexp(words)\n",
        "\n",
        "# Calculate performance (number of distinct root forms after stemming)\n",
        "def calculate_performance(results):\n",
        "    return len(set(results))\n",
        "\n",
        "# Performance of each stemming method\n",
        "performance = {\n",
        "    'Porter Stemmer': calculate_performance(porter_results),\n",
        "    'Lancaster Stemmer': calculate_performance(lancaster_results),\n",
        "    'Snowball Stemmer': calculate_performance(snowball_results),\n",
        "    'Regexp Stemmer': calculate_performance(regexp_results)\n",
        "}\n",
        "\n",
        "# Create a bar chart to visualize performance\n",
        "methods = list(performance.keys())\n",
        "scores = list(performance.values())\n",
        "\n",
        "plt.bar(methods, scores, color=['blue', 'green', 'red', 'purple'])\n",
        "plt.xlabel('Stemming Methods')\n",
        "plt.ylabel('Distinct Root Forms')\n",
        "plt.title('Performance of Various Stemming Techniques')\n",
        "plt.show()\n",
        "\n",
        "# Print the results\n",
        "print(\"Performance Comparison:\")\n",
        "for method, score in performance.items():\n",
        "    print(f\"{method}: {score} distinct root forms\")"
      ],
      "metadata": {
        "colab": {
          "base_uri": "https://localhost:8080/",
          "height": 593
        },
        "id": "yXpBc6HgP7Bt",
        "outputId": "28f3706e-1c2e-4253-886b-0183a612ef16"
      },
      "execution_count": 4,
      "outputs": [
        {
          "output_type": "stream",
          "name": "stderr",
          "text": [
            "[nltk_data] Downloading package punkt to /root/nltk_data...\n",
            "[nltk_data]   Unzipping tokenizers/punkt.zip.\n"
          ]
        },
        {
          "output_type": "display_data",
          "data": {
            "text/plain": [
              "<Figure size 640x480 with 1 Axes>"
            ],
            "image/png": "[encoded data removed]"
          },
          "metadata": {}
        },
        {
          "output_type": "stream",
          "name": "stdout",
          "text": [
            "Performance Comparison:\n",
            "Porter Stemmer: 8 distinct root forms\n",
            "Lancaster Stemmer: 7 distinct root forms\n",
            "Snowball Stemmer: 8 distinct root forms\n",
            "Regexp Stemmer: 6 distinct root forms\n"
          ]
        }
      ]
    },
    {
      "cell_type": "markdown",
      "source": [
        "9th week"
      ],
      "metadata": {
        "id": "jaJwxVajQgNw"
      }
    },
    {
      "cell_type": "code",
      "source": [
        "import nltk\n",
        "import spacy\n",
        "from nltk.stem import WordNetLemmatizer\n",
        "from nltk.tokenize import RegexpTokenizer\n",
        "from textblob import Word\n",
        "import matplotlib.pyplot as plt\n",
        "\n",
        "# Download required resources\n",
        "nltk.download('wordnet')\n",
        "nltk.download('omw-1.4')\n",
        "nltk.download('punkt')\n",
        "\n",
        "# Load spaCy English model\n",
        "nlp = spacy.load(\"en_core_web_sm\")\n",
        "\n",
        "# List of words for lemmatization\n",
        "words = [\n",
        "    \"running\", \"jumps\", \"easily\", \"flies\", \"happiness\",\n",
        "    \"runners\", \"studies\", \"studying\", \"played\", \"playful\"\n",
        "]\n",
        "\n",
        "# Initialize lemmatizers\n",
        "wordnet_lemmatizer = WordNetLemmatizer()\n",
        "regexp_tokenizer = RegexpTokenizer(r'\\w+')\n",
        "\n",
        "# Lemmatization functions\n",
        "def lemmatize_using_wordnet(words):\n",
        "    return [wordnet_lemmatizer.lemmatize(word, pos='v') for word in words]\n",
        "\n",
        "def lemmatize_using_spacy(words):\n",
        "    return [token.lemma_ for token in nlp(\" \".join(words))]\n",
        "\n",
        "def lemmatize_using_textblob(words):\n",
        "    return [Word(word).lemmatize() for word in words]\n",
        "\n",
        "def lemmatize_using_regexp(words):\n",
        "    return [word.lower() for word in words]\n",
        "\n",
        "# Apply lemmatization methods\n",
        "wordnet_results = lemmatize_using_wordnet(words)\n",
        "spacy_results = lemmatize_using_spacy(words)\n",
        "textblob_results = lemmatize_using_textblob(words)\n",
        "regexp_results = lemmatize_using_regexp(words)\n",
        "\n",
        "# Calculate performance (number of distinct root forms after lemmatization)\n",
        "def calculate_performance(results):\n",
        "    return len(set(results))\n",
        "\n",
        "# Performance of each lemmatization method\n",
        "performance = {\n",
        "    'WordNet Lemmatizer': calculate_performance(wordnet_results),\n",
        "    'spaCy Lemmatizer': calculate_performance(spacy_results),\n",
        "    'TextBlob Lemmatizer': calculate_performance(textblob_results),\n",
        "    'Regexp Lemmatizer': calculate_performance(regexp_results)\n",
        "}\n",
        "\n",
        "# Create a bar chart to visualize performance\n",
        "methods = list(performance.keys())\n",
        "scores = list(performance.values())\n",
        "\n",
        "plt.bar(methods, scores, color=['blue', 'green', 'red', 'purple'])\n",
        "plt.xlabel('Lemmatization Methods')\n",
        "plt.ylabel('Distinct Lemmas')\n",
        "plt.title('Performance Comparison of Lemmatization Techniques')\n",
        "plt.xticks(rotation=15)\n",
        "plt.show()\n",
        "\n",
        "# Print the results\n",
        "print(\"\\nPerformance Comparison:\")\n",
        "for method, score in performance.items():\n",
        "    print(f\"{method}: {score} distinct lemmas\")"
      ],
      "metadata": {
        "colab": {
          "base_uri": "https://localhost:8080/",
          "height": 683
        },
        "id": "z81r0CbkQhhD",
        "outputId": "d0cf7b43-3e23-4677-f994-8c7d6b236ff7"
      },
      "execution_count": 5,
      "outputs": [
        {
          "output_type": "stream",
          "name": "stderr",
          "text": [
            "[nltk_data] Downloading package wordnet to /root/nltk_data...\n",
            "[nltk_data] Downloading package omw-1.4 to /root/nltk_data...\n",
            "[nltk_data] Downloading package punkt to /root/nltk_data...\n",
            "[nltk_data]   Package punkt is already up-to-date!\n"
          ]
        },
        {
          "output_type": "display_data",
          "data": {
            "text/plain": [
              "<Figure size 640x480 with 1 Axes>"
            ],
            "image/png": "[encoded data removed]"
          },
          "metadata": {}
        },
        {
          "output_type": "stream",
          "name": "stdout",
          "text": [
            "\n",
            "Performance Comparison:\n",
            "WordNet Lemmatizer: 9 distinct lemmas\n",
            "spaCy Lemmatizer: 9 distinct lemmas\n",
            "TextBlob Lemmatizer: 10 distinct lemmas\n",
            "Regexp Lemmatizer: 10 distinct lemmas\n"
          ]
        }
      ]
    },
    {
      "cell_type": "markdown",
      "source": [
        "10th week"
      ],
      "metadata": {
        "id": "NwqAIq3oRT1m"
      }
    },
    {
      "cell_type": "code",
      "source": [
        "import nltk\n",
        "from nltk import bigrams, ConditionalFreqDist\n",
        "from nltk.tokenize import word_tokenize\n",
        "\n",
        "# Download required resources\n",
        "nltk.download('punkt')\n",
        "\n",
        "# Sample corpus\n",
        "corpus = \"\"\"Natural language processing is a field of artificial intelligence.\n",
        "It deals with the interaction between computers and humans using natural language.\n",
        "Processing includes tasks such as tokenization, parsing, and sentiment analysis.\n",
        "Understanding language is crucial for applications like chatbots, translation, and information retrieval.\n",
        "Language processing helps in deriving meaning from text and is an essential part of modern AI systems.\"\"\"\n",
        "\n",
        "# Tokenize text\n",
        "words = word_tokenize(corpus)\n",
        "\n",
        "# Generate bigrams\n",
        "word_bigrams = list(bigrams(words))\n",
        "\n",
        "# Create Conditional Frequency Distribution (CFD)\n",
        "cfd = ConditionalFreqDist(word_bigrams)\n",
        "\n",
        "# Display frequencies of words following 'language'\n",
        "print(\"Words that follow 'language':\")\n",
        "print(cfd[\"language\"].most_common(5))  # Top 5 most common words following 'language'\n",
        "\n",
        "# Display frequencies of words following 'processing'\n",
        "print(\"\\nWords that follow 'processing':\")\n",
        "print(cfd[\"processing\"].most_common(5))\n",
        "\n",
        "# Display all conditions (first words in bigrams)\n",
        "print(\"\\nConditions (First words in bigrams):\")\n",
        "print(list(cfd.keys())[:10])  # Show first 10 unique words\n",
        "\n",
        "# Plot the CFD\n",
        "cfd.plot(conditions=['language', 'processing'], title=\"CFD of Words Following 'language' and 'processing'\")"
      ],
      "metadata": {
        "colab": {
          "base_uri": "https://localhost:8080/",
          "height": 723
        },
        "id": "rcMnN3OhRWNM",
        "outputId": "c615c4ad-1187-4430-f238-12574710ff68"
      },
      "execution_count": 6,
      "outputs": [
        {
          "output_type": "stream",
          "name": "stdout",
          "text": [
            "Words that follow 'language':\n",
            "[('processing', 1), ('.', 1), ('is', 1)]\n",
            "\n",
            "Words that follow 'processing':\n",
            "[('is', 1), ('helps', 1)]\n",
            "\n",
            "Conditions (First words in bigrams):\n",
            "['Natural', 'language', 'processing', 'is', 'a', 'field', 'of', 'artificial', 'intelligence', '.']\n"
          ]
        },
        {
          "output_type": "stream",
          "name": "stderr",
          "text": [
            "[nltk_data] Downloading package punkt to /root/nltk_data...\n",
            "[nltk_data]   Package punkt is already up-to-date!\n"
          ]
        },
        {
          "output_type": "execute_result",
          "data": {
            "text/plain": [
              "<Axes: title={'center': \"CFD of Words Following 'language' and 'processing'\"}, xlabel='Samples', ylabel='Counts'>"
            ]
          },
          "metadata": {},
          "execution_count": 6
        },
        {
          "output_type": "display_data",
          "data": {
            "text/plain": [
              "<Figure size 640x480 with 1 Axes>"
            ],
            "image/png": "[encoded data removed]"
          },
          "metadata": {}
        }
      ]
    },
    {
      "cell_type": "code",
      "source": [
        "import nltk\n",
        "from nltk.tokenize import word_tokenize\n",
        "from nltk.probability import FreqDist\n",
        "\n",
        "# Download necessary resources\n",
        "nltk.download('punkt')\n",
        "\n",
        "# Sample text corpus\n",
        "corpus = \"\"\"Natural language processing is a field of artificial intelligence.\n",
        "It deals with the interaction between computers and humans using natural language.\n",
        "Processing includes tasks such as tokenization, parsing, and sentiment analysis.\n",
        "Understanding language is crucial for applications like chatbots, translation, and information retrieval.\n",
        "Language processing helps in deriving meaning from text and is an essential part of modern AI systems.\"\"\"\n",
        "\n",
        "# Tokenize the text into words\n",
        "words = word_tokenize(corpus)\n",
        "\n",
        "# Filter out four-letter words\n",
        "four_letter_words = [word.lower() for word in words if len(word) == 4 and word.isalpha()]\n",
        "\n",
        "# Calculate the frequency distribution\n",
        "fdist = FreqDist(four_letter_words)\n",
        "\n",
        "# Print results\n",
        "print(\"Four-letter words in decreasing order of frequency:\")\n",
        "for word, count in fdist.most_common():\n",
        "    print(f\"{word}: {count}\")"
      ],
      "metadata": {
        "colab": {
          "base_uri": "https://localhost:8080/"
        },
        "id": "yvaEyvBMRZRe",
        "outputId": "d52a8890-ec06-4a60-c54a-500297afb8a6"
      },
      "execution_count": 9,
      "outputs": [
        {
          "output_type": "stream",
          "name": "stdout",
          "text": [
            "Four-letter words in decreasing order of frequency:\n",
            "with: 1\n",
            "such: 1\n",
            "like: 1\n",
            "from: 1\n",
            "text: 1\n",
            "part: 1\n"
          ]
        },
        {
          "output_type": "stream",
          "name": "stderr",
          "text": [
            "[nltk_data] Downloading package punkt to /root/nltk_data...\n",
            "[nltk_data]   Package punkt is already up-to-date!\n"
          ]
        }
      ]
    },
    {
      "cell_type": "markdown",
      "source": [
        "11th week"
      ],
      "metadata": {
        "id": "H_IjhHCxSauP"
      }
    },
    {
      "cell_type": "code",
      "source": [
        "import nltk\n",
        "from nltk.tokenize import word_tokenize\n",
        "from nltk.tag import pos_tag\n",
        "\n",
        "# Download required resources\n",
        "nltk.download('punkt')\n",
        "nltk.download('averaged_perceptron_tagger_eng')\n",
        "\n",
        "# Sample text corpus\n",
        "corpus = \"\"\"Natural language processing is a field of artificial intelligence.\n",
        "It deals with the interaction between computers and humans using natural language.\n",
        "Processing includes tasks such as tokenization, parsing, and sentiment analysis.\n",
        "Understanding language is crucial for applications like chatbots, translation, and information retrieval.\n",
        "Language processing helps in deriving meaning from text and is an essential part of modern AI systems.\"\"\"\n",
        "\n",
        "# Tokenize the text into words\n",
        "words = word_tokenize(corpus)\n",
        "\n",
        "# Perform POS tagging\n",
        "pos_tags = pos_tag(words)\n",
        "\n",
        "# Print results\n",
        "print(\"POS Tagging Results:\")\n",
        "for word, tag in pos_tags:\n",
        "    print(f\"{word}: {tag}\")"
      ],
      "metadata": {
        "colab": {
          "base_uri": "https://localhost:8080/"
        },
        "id": "jjFHmEtpxcoD",
        "outputId": "ab10b3e2-2302-4aa3-dac6-cea7b6c36339"
      },
      "execution_count": 11,
      "outputs": [
        {
          "output_type": "stream",
          "name": "stderr",
          "text": [
            "[nltk_data] Downloading package punkt to /root/nltk_data...\n",
            "[nltk_data]   Package punkt is already up-to-date!\n",
            "[nltk_data] Downloading package averaged_perceptron_tagger_eng to\n",
            "[nltk_data]     /root/nltk_data...\n",
            "[nltk_data]   Unzipping taggers/averaged_perceptron_tagger_eng.zip.\n"
          ]
        },
        {
          "output_type": "stream",
          "name": "stdout",
          "text": [
            "POS Tagging Results:\n",
            "Natural: JJ\n",
            "language: NN\n",
            "processing: NN\n",
            "is: VBZ\n",
            "a: DT\n",
            "field: NN\n",
            "of: IN\n",
            "artificial: JJ\n",
            "intelligence: NN\n",
            ".: .\n",
            "It: PRP\n",
            "deals: VBZ\n",
            "with: IN\n",
            "the: DT\n",
            "interaction: NN\n",
            "between: IN\n",
            "computers: NNS\n",
            "and: CC\n",
            "humans: NNS\n",
            "using: VBG\n",
            "natural: JJ\n",
            "language: NN\n",
            ".: .\n",
            "Processing: VBG\n",
            "includes: VBZ\n",
            "tasks: NNS\n",
            "such: JJ\n",
            "as: IN\n",
            "tokenization: NN\n",
            ",: ,\n",
            "parsing: NN\n",
            ",: ,\n",
            "and: CC\n",
            "sentiment: NN\n",
            "analysis: NN\n",
            ".: .\n",
            "Understanding: JJ\n",
            "language: NN\n",
            "is: VBZ\n",
            "crucial: JJ\n",
            "for: IN\n",
            "applications: NNS\n",
            "like: IN\n",
            "chatbots: NNS\n",
            ",: ,\n",
            "translation: NN\n",
            ",: ,\n",
            "and: CC\n",
            "information: NN\n",
            "retrieval: NN\n",
            ".: .\n",
            "Language: NN\n",
            "processing: NN\n",
            "helps: VBZ\n",
            "in: IN\n",
            "deriving: VBG\n",
            "meaning: NN\n",
            "from: IN\n",
            "text: NN\n",
            "and: CC\n",
            "is: VBZ\n",
            "an: DT\n",
            "essential: JJ\n",
            "part: NN\n",
            "of: IN\n",
            "modern: JJ\n",
            "AI: NNP\n",
            "systems: NNS\n",
            ".: .\n"
          ]
        }
      ]
    },
    {
      "cell_type": "code",
      "source": [
        "import nltk\n",
        "from nltk import pos_tag, word_tokenize\n",
        "from collections import defaultdict\n",
        "\n",
        "# Sample corpus with words having multiple meanings\n",
        "corpus = \"\"\"\n",
        "I will book a flight tomorrow. The book is on the table.\n",
        "She can run a marathon. They run a small business.\n",
        "He will play the guitar. They watched a play at the theater.\n",
        "She took a back seat. They will back the proposal.\n",
        "\"\"\"\n",
        "\n",
        "words = word_tokenize(corpus)\n",
        "tagged_words = pos_tag(words)\n",
        "\n",
        "tag_dict = defaultdict(set)\n",
        "for word, tag in tagged_words:\n",
        "    if word.isalpha():\n",
        "        tag_dict[word.lower()].add(tag)\n",
        "\n",
        "# Find the word with the most distinct tags\n",
        "max_word = None\n",
        "max_length = 0\n",
        "\n",
        "for word, tags in tag_dict.items():\n",
        "    if len(tags) > max_length:\n",
        "        max_length = len(tags)\n",
        "        max_word = word\n",
        "\n",
        "# Print result\n",
        "print(f\"Word with most tags: {max_word}\")\n",
        "print(f\"Tags: {tag_dict[max_word]}\")"
      ],
      "metadata": {
        "colab": {
          "base_uri": "https://localhost:8080/"
        },
        "id": "oZn0dnAsjogN",
        "outputId": "5de6acaf-31c7-49d2-d1d0-b50392683d49"
      },
      "execution_count": 19,
      "outputs": [
        {
          "output_type": "stream",
          "name": "stdout",
          "text": [
            "Word with most tags: run\n",
            "Tags: {'VB', 'VBP'}\n"
          ]
        }
      ]
    },
    {
      "cell_type": "code",
      "source": [
        "import nltk\n",
        "from nltk import FreqDist\n",
        "from nltk.corpus import treebank\n",
        "\n",
        "# Download the required resources if not already downloaded\n",
        "nltk.download('treebank')\n",
        "nltk.download('universal_tagset')\n",
        "\n",
        "# Get the POS-tagged sentences from the treebank corpus\n",
        "tagged_sentences = treebank.tagged_sents()\n",
        "\n",
        "# Flatten the list of tagged words to get all tags\n",
        "tags = [tag for sentence in tagged_sentences for word, tag in sentence]\n",
        "\n",
        "# Calculate the frequency distribution of tags\n",
        "tag_freq = FreqDist(tags)\n",
        "\n",
        "# Print the 20 most common tags and their frequency\n",
        "print(\"20 Most Frequent Tags:\")\n",
        "for tag, freq in tag_freq.most_common(20):\n",
        "    print(f\"{tag}: {freq}\")\n",
        "\n",
        "# You can also plot the frequency distribution if you want\n",
        "tag_freq.plot(30, title=\"Top 30 POS Tags\")"
      ],
      "metadata": {
        "colab": {
          "base_uri": "https://localhost:8080/",
          "height": 959
        },
        "id": "6gn89JJCTLca",
        "outputId": "f2275f82-a123-4cd3-a81d-5a70b2486011"
      },
      "execution_count": null,
      "outputs": [
        {
          "output_type": "stream",
          "name": "stderr",
          "text": [
            "[nltk_data] Downloading package treebank to /root/nltk_data...\n",
            "[nltk_data]   Unzipping corpora/treebank.zip.\n",
            "[nltk_data] Downloading package universal_tagset to /root/nltk_data...\n",
            "[nltk_data]   Unzipping taggers/universal_tagset.zip.\n"
          ]
        },
        {
          "output_type": "stream",
          "name": "stdout",
          "text": [
            "20 Most Frequent Tags:\n",
            "NN: 13166\n",
            "IN: 9857\n",
            "NNP: 9410\n",
            "DT: 8165\n",
            "-NONE-: 6592\n",
            "NNS: 6047\n",
            "JJ: 5834\n",
            ",: 4886\n",
            ".: 3874\n",
            "CD: 3546\n",
            "VBD: 3043\n",
            "RB: 2822\n",
            "VB: 2554\n",
            "CC: 2265\n",
            "TO: 2179\n",
            "VBN: 2134\n",
            "VBZ: 2125\n",
            "PRP: 1716\n",
            "VBG: 1460\n",
            "VBP: 1321\n"
          ]
        },
        {
          "output_type": "execute_result",
          "data": {
            "text/plain": [
              "<Axes: title={'center': 'Top 30 POS Tags'}, xlabel='Samples', ylabel='Counts'>"
            ]
          },
          "metadata": {},
          "execution_count": 19
        },
        {
          "output_type": "display_data",
          "data": {
            "text/plain": [
              "<Figure size 640x480 with 1 Axes>"
            ],
            "image/png": "[encoded data removed]"
          },
          "metadata": {}
        }
      ]
    },
    {
      "cell_type": "code",
      "source": [
        "import nltk\n",
        "from nltk.corpus import treebank\n",
        "from nltk import FreqDist\n",
        "\n",
        "# Download the required resources if not already downloaded\n",
        "nltk.download('treebank')\n",
        "nltk.download('universal_tagset')\n",
        "\n",
        "# Get the POS-tagged sentences from the treebank corpus\n",
        "tagged_sentences = treebank.tagged_sents()\n",
        "\n",
        "# List to store the tags following nouns\n",
        "nouns_followed_by = []\n",
        "\n",
        "\n",
        "for sentence in tagged_sentences:\n",
        "    for i in range(len(sentence) - 1):\n",
        "        if sentence[i][1] in ['NN', 'NNS']:\n",
        "            nouns_followed_by.append(sentence[i + 1][1])\n",
        "\n",
        "\n",
        "# Calculate the frequency distribution of the tags following nouns\n",
        "followed_by_freq = FreqDist(nouns_followed_by)\n",
        "\n",
        "# Print the most common tags that follow nouns\n",
        "print(\"Most Common Tags Found After Nouns:\")\n",
        "for tag, freq in followed_by_freq.most_common(20):\n",
        "    print(f\"{tag}: {freq}\")\n",
        "\n",
        "# Plot the frequency distribution if needed\n",
        "followed_by_freq.plot(20, title=\"Tags Found After Nouns\")"
      ],
      "metadata": {
        "colab": {
          "base_uri": "https://localhost:8080/",
          "height": 959
        },
        "id": "zEjDXBFiTQ4b",
        "outputId": "71a9a45b-25d3-430b-cb50-2fd7b95313a6"
      },
      "execution_count": null,
      "outputs": [
        {
          "output_type": "stream",
          "name": "stderr",
          "text": [
            "[nltk_data] Downloading package treebank to /root/nltk_data...\n",
            "[nltk_data]   Package treebank is already up-to-date!\n",
            "[nltk_data] Downloading package universal_tagset to /root/nltk_data...\n",
            "[nltk_data]   Package universal_tagset is already up-to-date!\n"
          ]
        },
        {
          "output_type": "stream",
          "name": "stdout",
          "text": [
            "Most Common Tags Found After Nouns:\n",
            "IN: 4670\n",
            ",: 2170\n",
            ".: 2078\n",
            "NN: 1793\n",
            "NNS: 1152\n",
            "VBD: 1082\n",
            "CC: 850\n",
            "-NONE-: 780\n",
            "VBZ: 637\n",
            "VBP: 599\n",
            "TO: 399\n",
            "RB: 354\n",
            "MD: 354\n",
            "POS: 338\n",
            ":: 304\n",
            "JJ: 221\n",
            "VBN: 219\n",
            "WDT: 199\n",
            "VBG: 165\n",
            "DT: 151\n"
          ]
        },
        {
          "output_type": "execute_result",
          "data": {
            "text/plain": [
              "<Axes: title={'center': 'Tags Found After Nouns'}, xlabel='Samples', ylabel='Counts'>"
            ]
          },
          "metadata": {},
          "execution_count": 20
        },
        {
          "output_type": "display_data",
          "data": {
            "text/plain": [
              "<Figure size 640x480 with 1 Axes>"
            ],
            "image/png": "[encoded data removed]"
          },
          "metadata": {}
        }
      ]
    },
    {
      "cell_type": "code",
      "source": [
        "import math\n",
        "from collections import Counter\n",
        "\n",
        "# Sample documents\n",
        "documents = [\n",
        "    \"the cat in the hat\",\n",
        "    \"the quick brown fox jumped over the lazy dog\",\n",
        "    \"the cat is quick and smart\"\n",
        "]\n",
        "\n",
        "# Step 1: Compute Term Frequency (TF)\n",
        "def compute_tf(doc):\n",
        "    word_count = Counter(doc.split())\n",
        "    total_words = len(doc.split())\n",
        "    tf = {word: count / total_words for word, count in word_count.items()}\n",
        "    return tf\n",
        "\n",
        "# Step 2: Compute Inverse Document Frequency (IDF)\n",
        "def compute_idf(documents):\n",
        "    total_docs = len(documents)\n",
        "    idf = {}\n",
        "    for doc in documents:\n",
        "        for word in set(doc.split()):\n",
        "            idf[word] = idf.get(word, 0) + 1\n",
        "    idf = {word: math.log(total_docs / count) for word, count in idf.items()}\n",
        "    return idf\n",
        "\n",
        "# Step 3: Compute TF-IDF\n",
        "def compute_tfidf(documents):\n",
        "    idf = compute_idf(documents)\n",
        "    tfidf = []\n",
        "    for doc in documents:\n",
        "        tf = compute_tf(doc)\n",
        "        tfidf_doc = {word: tf[word] * idf.get(word, 0) for word in tf}\n",
        "        tfidf.append(tfidf_doc)\n",
        "    return tfidf\n",
        "\n",
        "# Compute TF-IDF for the sample documents\n",
        "tfidf_scores = compute_tfidf(documents)\n",
        "\n",
        "# Print the TF-IDF scores\n",
        "for i, doc_tfidf in enumerate(tfidf_scores):\n",
        "    print(f\"Document {i+1}:\")\n",
        "    for word, score in doc_tfidf.items():\n",
        "        print(f\"  {word}: {score:.4f}\")\n"
      ],
      "metadata": {
        "colab": {
          "base_uri": "https://localhost:8080/"
        },
        "id": "8OardlwwKSOb",
        "outputId": "b03e04c9-3a84-43eb-88f6-ccdf0747bb5f"
      },
      "execution_count": null,
      "outputs": [
        {
          "output_type": "stream",
          "name": "stdout",
          "text": [
            "Document 1:\n",
            "  the: 0.0000\n",
            "  cat: 0.0811\n",
            "  in: 0.2197\n",
            "  hat: 0.2197\n",
            "Document 2:\n",
            "  the: 0.0000\n",
            "  quick: 0.0451\n",
            "  brown: 0.1221\n",
            "  fox: 0.1221\n",
            "  jumped: 0.1221\n",
            "  over: 0.1221\n",
            "  lazy: 0.1221\n",
            "  dog: 0.1221\n",
            "Document 3:\n",
            "  the: 0.0000\n",
            "  cat: 0.0676\n",
            "  is: 0.1831\n",
            "  quick: 0.0676\n",
            "  and: 0.1831\n",
            "  smart: 0.1831\n"
          ]
        }
      ]
    },
    {
      "cell_type": "code",
      "source": [
        "import math\n",
        "from collections import Counter\n",
        "\n",
        "def compute_tf(doc):\n",
        "    word_count = Counter(doc.split())\n",
        "    total_word = len(doc.split())\n",
        "    tf = {}\n",
        "    for word, count in word_count.items():\n",
        "        tf[word] = count / total_word\n",
        "    return tf\n",
        "\n",
        "\n",
        "def compute_idf(documents):\n",
        "    total_doc = len(documents)\n",
        "    idf = {}\n",
        "    for d in documents:\n",
        "        unique_words = set(d.split())\n",
        "        for w in unique_words:\n",
        "            if w not in idf:\n",
        "                idf[w] = 1\n",
        "            else:\n",
        "                idf[w] += 1\n",
        "    for w, count in idf.items():\n",
        "        idf[w] = math.log(total_doc / count)\n",
        "    return idf"
      ],
      "metadata": {
        "id": "ZzbhdVU63miS"
      },
      "execution_count": 16,
      "outputs": []
    },
    {
      "cell_type": "markdown",
      "source": [
        "13th week"
      ],
      "metadata": {
        "id": "7koSx-kAAPSk"
      }
    },
    {
      "cell_type": "code",
      "source": [
        "import nltk\n",
        "\n",
        "# Download necessary NLTK resources\n",
        "nltk.download('punkt')\n",
        "nltk.download('punkt_tab')\n",
        "nltk.download('averaged_perceptron_tagger_eng')\n",
        "\n",
        "# Define the corpus\n",
        "corpus = \"The quick brown fox jumped over the lazy dog.\"\n",
        "\n",
        "# Tokenize the corpus into words\n",
        "tokens = nltk.word_tokenize(corpus)\n",
        "\n",
        "# Define the grammar for chunking\n",
        "grammar = r\"\"\"\n",
        "    NP: {<DT>?<JJ>*<NN>}          # chunking for noun phrases\n",
        "    VP: {<VB.*><NP|PP|CLAUSE>+$}  # chunking for verb phrases\n",
        "\"\"\"\n",
        "\n",
        "# Define the grammar for chinking\n",
        "chinkgrammar = r\"\"\"\n",
        "    NP: {<.*>+}                   # chinking for everything\n",
        "    }<VBZ|VBP|VB|MD>{             # except verbs\n",
        "\"\"\"\n",
        "\n",
        "# Create chunk parsers\n",
        "chunk_parser = nltk.RegexpParser(grammar)\n",
        "chink_parser = nltk.RegexpParser(chinkgrammar)\n",
        "\n",
        "# Parse the tokens to create a chunked structure\n",
        "chunked = chunk_parser.parse(nltk.pos_tag(tokens))\n",
        "\n",
        "# Apply chinking to the chunked structure\n",
        "chinked = chink_parser.parse(chunked)\n",
        "\n",
        "# Print the chunked and chinked results\n",
        "print(chunked)\n",
        "print(chinked)"
      ],
      "metadata": {
        "colab": {
          "base_uri": "https://localhost:8080/"
        },
        "id": "NWzt5C78AOnm",
        "outputId": "f0e01e58-8b8b-4a8d-86f3-741881aff91b"
      },
      "execution_count": null,
      "outputs": [
        {
          "output_type": "stream",
          "name": "stderr",
          "text": [
            "[nltk_data] Downloading package punkt to /root/nltk_data...\n",
            "[nltk_data]   Unzipping tokenizers/punkt.zip.\n",
            "[nltk_data] Downloading package punkt_tab to /root/nltk_data...\n",
            "[nltk_data]   Unzipping tokenizers/punkt_tab.zip.\n",
            "[nltk_data] Downloading package averaged_perceptron_tagger_eng to\n",
            "[nltk_data]     /root/nltk_data...\n",
            "[nltk_data]   Unzipping taggers/averaged_perceptron_tagger_eng.zip.\n"
          ]
        },
        {
          "output_type": "stream",
          "name": "stdout",
          "text": [
            "(S\n",
            "  (NP The/DT quick/JJ brown/NN)\n",
            "  (NP fox/NN)\n",
            "  jumped/VBD\n",
            "  over/IN\n",
            "  (NP the/DT lazy/JJ dog/NN)\n",
            "  ./.)\n",
            "(S\n",
            "  (NP\n",
            "    (NP The/DT quick/JJ brown/NN)\n",
            "    (NP fox/NN)\n",
            "    jumped/VBD\n",
            "    over/IN\n",
            "    (NP the/DT lazy/JJ dog/NN)\n",
            "    ./.))\n"
          ]
        }
      ]
    },
    {
      "cell_type": "code",
      "source": [
        "from textblob import TextBlob\n",
        "import matplotlib.pyplot as plt\n",
        "from collections import Counter\n",
        "\n",
        "import nltk\n",
        "nltk.download('punkt_tab')\n",
        "\n",
        "# Sample text with misspelled words\n",
        "text = \"This is a smaple text with sme misspelled words like python, progrm, and quik.\"\n",
        "\n",
        "# Step 1: Detect and correct misspelled words\n",
        "def find_misspelled_words(text):\n",
        "    blob = TextBlob(text)\n",
        "    words = text.split()\n",
        "    misspelled = [word for word in words if blob.correct().words.count(word) == 0]\n",
        "    return misspelled\n",
        "\n",
        "misspelled_words = find_misspelled_words(text)\n",
        "\n",
        "# Step 2: Plot frequency graph of misspelled words\n",
        "word_counts = Counter(misspelled_words)\n",
        "\n",
        "# Plotting\n",
        "plt.figure(figsize=(8, 6))\n",
        "plt.bar(word_counts.keys(), word_counts.values(), color='skyblue')\n",
        "plt.title('Frequency of Misspelled Words')\n",
        "plt.xlabel('Misspelled Words')\n",
        "plt.ylabel('Frequency')\n",
        "plt.xticks(rotation=45)\n",
        "plt.show()\n",
        "\n",
        "print(f\"Misspelled Words: {misspelled_words}\")\n"
      ],
      "metadata": {
        "colab": {
          "base_uri": "https://localhost:8080/",
          "height": 651
        },
        "id": "dP2S7KhiMB8U",
        "outputId": "4e6617c0-5576-48d5-b6ef-24545c62f929"
      },
      "execution_count": null,
      "outputs": [
        {
          "output_type": "stream",
          "name": "stderr",
          "text": [
            "[nltk_data] Downloading package punkt_tab to /root/nltk_data...\n",
            "[nltk_data]   Unzipping tokenizers/punkt_tab.zip.\n"
          ]
        },
        {
          "output_type": "display_data",
          "data": {
            "text/plain": [
              "<Figure size 800x600 with 1 Axes>"
            ],
            "image/png": "[encoded data removed]"
          },
          "metadata": {}
        },
        {
          "output_type": "stream",
          "name": "stdout",
          "text": [
            "Misspelled Words: ['This', 'smaple', 'sme', 'python,', 'progrm,', 'quik.']\n"
          ]
        }
      ]
    },
    {
      "cell_type": "markdown",
      "source": [
        "15th week"
      ],
      "metadata": {
        "id": "B9oxxLvZAqHo"
      }
    },
    {
      "cell_type": "code",
      "source": [
        "import re\n",
        "import string\n",
        "import nltk\n",
        "from nltk.tokenize import word_tokenize\n",
        "from nltk.corpus import stopwords\n",
        "from nltk.stem import WordNetLemmatizer\n",
        "\n",
        "nltk.download('stopwords')\n",
        "nltk.download('wordnet')\n",
        "\n",
        "def preprocess(text):\n",
        "\n",
        "    # Remove numbers\n",
        "    text = re.sub(r'\\d+', '', text)\n",
        "\n",
        "    # Tokenize the text\n",
        "    tokens = word_tokenize(text)\n",
        "    print(\"After tokenizing:\", tokens)\n",
        "\n",
        "    # Remove stop words\n",
        "    stop_words = set(stopwords.words('english'))\n",
        "    tokens = [token for token in tokens if token not in stop_words]\n",
        "    print(\"After removing stopwords:\", tokens)\n",
        "\n",
        "    # Lemmatize the text\n",
        "    lemmatizer = WordNetLemmatizer()\n",
        "    tokens = [lemmatizer.lemmatize(token) for token in tokens]\n",
        "    print(\"After lemmatization:\", tokens)\n",
        "\n",
        "    # Join the tokens back into a string\n",
        "    text = ' '.join(tokens)\n",
        "    print(\"Finally, the joined text is:\")\n",
        "    return text`\n",
        "\n",
        "# Original text\n",
        "text = (\n",
        "    \"Natural language processing (NLP) is a field of study focused on the interactions between human \"\n",
        "    \"language and computers. It involves the development of algorithms and models that can understand, \"\n",
        "    \"analyze, and generate natural language. NLP is used in a variety of applications, including machine \"\n",
        "    \"translation, sentiment analysis, text classification, chatbots, and speech recognition. The field of NLP \"\n",
        "    \"is constantly evolving, and new techniques and models are being developed to improve the accuracy and \"\n",
        "    \"efficiency of natural language processing tasks.\"\n",
        ")\n",
        "\n",
        "print(\"Original text is:\", text)\n",
        "preprocess(text)"
      ],
      "metadata": {
        "colab": {
          "base_uri": "https://localhost:8080/",
          "height": 246
        },
        "id": "xsF8qZmoArkQ",
        "outputId": "5122c382-5b8a-4888-9033-78fd64cd3df2"
      },
      "execution_count": null,
      "outputs": [
        {
          "output_type": "stream",
          "name": "stdout",
          "text": [
            "Original text is: Natural language processing (NLP) is a field of study focused on the interactions between human language and computers. It involves the development of algorithms and models that can understand, analyze, and generate natural language. NLP is used in a variety of applications, including machine translation, sentiment analysis, text classification, chatbots, and speech recognition. The field of NLP is constantly evolving, and new techniques and models are being developed to improve the accuracy and efficiency of natural language processing tasks.\n",
            "After tokenizing: ['Natural', 'language', 'processing', '(', 'NLP', ')', 'is', 'a', 'field', 'of', 'study', 'focused', 'on', 'the', 'interactions', 'between', 'human', 'language', 'and', 'computers', '.', 'It', 'involves', 'the', 'development', 'of', 'algorithms', 'and', 'models', 'that', 'can', 'understand', ',', 'analyze', ',', 'and', 'generate', 'natural', 'language', '.', 'NLP', 'is', 'used', 'in', 'a', 'variety', 'of', 'applications', ',', 'including', 'machine', 'translation', ',', 'sentiment', 'analysis', ',', 'text', 'classification', ',', 'chatbots', ',', 'and', 'speech', 'recognition', '.', 'The', 'field', 'of', 'NLP', 'is', 'constantly', 'evolving', ',', 'and', 'new', 'techniques', 'and', 'models', 'are', 'being', 'developed', 'to', 'improve', 'the', 'accuracy', 'and', 'efficiency', 'of', 'natural', 'language', 'processing', 'tasks', '.']\n",
            "After removing stopwords: ['Natural', 'language', 'processing', '(', 'NLP', ')', 'field', 'study', 'focused', 'interactions', 'human', 'language', 'computers', '.', 'It', 'involves', 'development', 'algorithms', 'models', 'understand', ',', 'analyze', ',', 'generate', 'natural', 'language', '.', 'NLP', 'used', 'variety', 'applications', ',', 'including', 'machine', 'translation', ',', 'sentiment', 'analysis', ',', 'text', 'classification', ',', 'chatbots', ',', 'speech', 'recognition', '.', 'The', 'field', 'NLP', 'constantly', 'evolving', ',', 'new', 'techniques', 'models', 'developed', 'improve', 'accuracy', 'efficiency', 'natural', 'language', 'processing', 'tasks', '.']\n",
            "After lemmatization: ['Natural', 'language', 'processing', '(', 'NLP', ')', 'field', 'study', 'focused', 'interaction', 'human', 'language', 'computer', '.', 'It', 'involves', 'development', 'algorithm', 'model', 'understand', ',', 'analyze', ',', 'generate', 'natural', 'language', '.', 'NLP', 'used', 'variety', 'application', ',', 'including', 'machine', 'translation', ',', 'sentiment', 'analysis', ',', 'text', 'classification', ',', 'chatbots', ',', 'speech', 'recognition', '.', 'The', 'field', 'NLP', 'constantly', 'evolving', ',', 'new', 'technique', 'model', 'developed', 'improve', 'accuracy', 'efficiency', 'natural', 'language', 'processing', 'task', '.']\n",
            "Finally, the joined text is:\n"
          ]
        },
        {
          "output_type": "stream",
          "name": "stderr",
          "text": [
            "[nltk_data] Downloading package stopwords to /root/nltk_data...\n",
            "[nltk_data]   Package stopwords is already up-to-date!\n",
            "[nltk_data] Downloading package wordnet to /root/nltk_data...\n",
            "[nltk_data]   Package wordnet is already up-to-date!\n"
          ]
        },
        {
          "output_type": "execute_result",
          "data": {
            "text/plain": [
              "'Natural language processing ( NLP ) field study focused interaction human language computer . It involves development algorithm model understand , analyze , generate natural language . NLP used variety application , including machine translation , sentiment analysis , text classification , chatbots , speech recognition . The field NLP constantly evolving , new technique model developed improve accuracy efficiency natural language processing task .'"
            ],
            "application/vnd.google.colaboratory.intrinsic+json": {
              "type": "string"
            }
          },
          "metadata": {},
          "execution_count": 22
        }
      ]
    },
    {
      "cell_type": "code",
      "source": [
        "import spacy\n",
        "\n",
        "# Load the pre-trained spaCy model (en_core_web_sm is a small model for English)\n",
        "nlp = spacy.load(\"en_core_web_sm\")\n",
        "\n",
        "# Sample corpus (text) with named entities\n",
        "text = \"\"\"\n",
        "Apple is looking to buy a startup in the United Kingdom for $1 billion.\n",
        "Bill Gates, the founder of Microsoft, is one of the wealthiest people in the world.\n",
        "The Eiffel Tower in Paris attracts millions of visitors every year.\n",
        "\"\"\"\n",
        "\n",
        "# Step 1: Process the text using the spaCy model\n",
        "doc = nlp(text)\n",
        "\n",
        "# Step 2: Extract named entities\n",
        "named_entities = [(ent.text, ent.label_) for ent in doc.ents]\n",
        "\n",
        "# Step 3: Print the named entities\n",
        "print(\"Named Entities, Phrases, and Concepts:\")\n",
        "for entity, label in named_entities:\n",
        "    print(f\"{entity}: {label}\")\n"
      ],
      "metadata": {
        "colab": {
          "base_uri": "https://localhost:8080/"
        },
        "id": "-g77BraZNRDh",
        "outputId": "2be82dea-4940-4894-8bc0-80dc1a9189d1"
      },
      "execution_count": null,
      "outputs": [
        {
          "output_type": "stream",
          "name": "stdout",
          "text": [
            "Named Entities, Phrases, and Concepts:\n",
            "Apple: ORG\n",
            "the United Kingdom: GPE\n",
            "$1 billion: MONEY\n",
            "Bill Gates: PERSON\n",
            "Microsoft: ORG\n",
            "The Eiffel Tower: FAC\n",
            "Paris: GPE\n",
            "millions: CARDINAL\n",
            "every year: DATE\n"
          ]
        }
      ]
    },
    {
      "cell_type": "markdown",
      "source": [
        "roll no code"
      ],
      "metadata": {
        "id": "6uA_3-bB_52j"
      }
    },
    {
      "cell_type": "code",
      "source": [
        "from sentence_transformers import SentenceTransformer\n",
        "\n",
        "# Load the pre-trained model\n",
        "model = SentenceTransformer('sentence-transformers/all-MiniLM-L6-v2')\n",
        "\n",
        "def represent_text(text):\n",
        "    \"\"\"Represent words in the text using the Hugging Face model.\"\"\"\n",
        "    words = text.split()\n",
        "    word_vectors = {}\n",
        "\n",
        "    for word in words:\n",
        "        # Generate the embedding for each word\n",
        "        vector = model.encode(word)\n",
        "        word_vectors[word] = vector\n",
        "\n",
        "    return word_vectors\n",
        "\n",
        "# Example usage\n",
        "if __name__ == \"__main__\":\n",
        "    text = \"Natural language processing is a fascinating field of artificial intelligence.\"\n",
        "    word_vectors = represent_text(text)\n",
        "\n",
        "    # Print the word vectors\n",
        "    for word, vector in word_vectors.items():\n",
        "        print(f\"Word: {word}, Vector: {vector[:5]}...\")  # Print first 5 dimensions of the vector"
      ],
      "metadata": {
        "colab": {
          "base_uri": "https://localhost:8080/"
        },
        "id": "K3FkeO1h_070",
        "outputId": "df4a2932-4900-4344-9280-0660986e354d"
      },
      "execution_count": null,
      "outputs": [
        {
          "output_type": "stream",
          "name": "stdout",
          "text": [
            "Word: Natural, Vector: [ 0.00716398 -0.04311313 -0.00113758  0.01979691  0.03562563]...\n",
            "Word: language, Vector: [ 0.00372883  0.00727632  0.00780964 -0.00094706 -0.05943288]...\n",
            "Word: processing, Vector: [-0.01373339  0.02177688 -0.03994391 -0.04246754 -0.00178156]...\n",
            "Word: is, Vector: [-0.02520915  0.08281849 -0.00574398  0.01269494 -0.03435321]...\n",
            "Word: a, Vector: [-0.03643291  0.03470335 -0.04595986  0.03432553 -0.0808233 ]...\n",
            "Word: fascinating, Vector: [ 0.05734913  0.05417313  0.01783014  0.04163366 -0.01318187]...\n",
            "Word: field, Vector: [ 0.01432154  0.1181765  -0.03460432 -0.01645089 -0.03883919]...\n",
            "Word: of, Vector: [-0.04894646  0.01702496  0.01925407  0.04219345  0.06730827]...\n",
            "Word: artificial, Vector: [-0.02675814 -0.04180858 -0.01587611  0.03020455 -0.0578601 ]...\n",
            "Word: intelligence., Vector: [ 0.04986701  0.00711319 -0.00666337  0.04289055 -0.04601474]...\n"
          ]
        }
      ]
    },
    {
      "cell_type": "code",
      "source": [
        "import re\n",
        "\n",
        "def find_acronyms(text):\n",
        "    # Match words that are all uppercase letters (potential acronyms)\n",
        "    acronyms = re.findall(r'\\b[A-Z]{2,}\\b', text)\n",
        "    return acronyms\n",
        "\n",
        "text = \"The CIA, FBI, and NASA are well-known agencies.\"\n",
        "acronyms = find_acronyms(text)\n",
        "print(\"Acronyms:\", acronyms)\n"
      ],
      "metadata": {
        "id": "NqrWChXRAL7W",
        "colab": {
          "base_uri": "https://localhost:8080/"
        },
        "outputId": "e5c7a9b0-29ac-40b4-a082-38b3f0eba30a"
      },
      "execution_count": null,
      "outputs": [
        {
          "output_type": "stream",
          "name": "stdout",
          "text": [
            "Acronyms: ['CIA', 'FBI', 'NASA']\n"
          ]
        }
      ]
    },
    {
      "cell_type": "code",
      "source": [
        "import re\n",
        "\n",
        "def find_decimal_numbers(text):\n",
        "    # Match decimal numbers\n",
        "    decimals = re.findall(r'\\b\\d+\\.\\d+\\b', text)\n",
        "    return decimals\n",
        "\n",
        "text = \"The price is 12.50 dollars, and the discount is 5.75.\"\n",
        "decimals = find_decimal_numbers(text)\n",
        "print(\"Decimal Numbers:\", decimals)"
      ],
      "metadata": {
        "colab": {
          "base_uri": "https://localhost:8080/"
        },
        "id": "P6H_fykWPeD-",
        "outputId": "dedc0473-54b2-43a6-81c7-e470ced465d8"
      },
      "execution_count": null,
      "outputs": [
        {
          "output_type": "stream",
          "name": "stdout",
          "text": [
            "Decimal Numbers: ['12.50', '5.75']\n"
          ]
        }
      ]
    },
    {
      "cell_type": "code",
      "source": [
        "def find_unicode_characters(text):\n",
        "    # Extract characters that are not ASCII\n",
        "    unicode_chars = [char for char in text if ord(char) > 127]\n",
        "    return unicode_chars\n",
        "\n",
        "text = \"Hello, this is a test 😃.\"\n",
        "unicode_chars = find_unicode_characters(text)\n",
        "print(\"Unicode Characters:\", unicode_chars)"
      ],
      "metadata": {
        "colab": {
          "base_uri": "https://localhost:8080/"
        },
        "id": "87ZJtXudPh97",
        "outputId": "f0092b69-a48a-4985-95d6-94a6a285447b"
      },
      "execution_count": null,
      "outputs": [
        {
          "output_type": "stream",
          "name": "stdout",
          "text": [
            "Unicode Characters: ['😃']\n"
          ]
        }
      ]
    },
    {
      "cell_type": "code",
      "source": [
        "import spacy\n",
        "import matplotlib.pyplot as plt\n",
        "from collections import Counter\n",
        "\n",
        "# Load a pre-trained spaCy model\n",
        "nlp = spacy.load(\"en_core_web_sm\")\n",
        "\n",
        "def plot_pos_tags(text):\n",
        "    doc = nlp(text)\n",
        "    pos_tags = [token.pos_ for token in doc]\n",
        "    pos_counts = Counter(pos_tags)\n",
        "\n",
        "    # Plotting the POS tags frequency\n",
        "    plt.bar(pos_counts.keys(), pos_counts.values())\n",
        "    plt.title('POS Tag Frequency')\n",
        "    plt.xlabel('POS Tags')\n",
        "    plt.ylabel('Frequency')\n",
        "    plt.xticks(rotation=45)\n",
        "    plt.show()\n",
        "\n",
        "text = \"This is a simple example of a sentence for POS tagging.\"\n",
        "plot_pos_tags(text)"
      ],
      "metadata": {
        "colab": {
          "base_uri": "https://localhost:8080/",
          "height": 501
        },
        "id": "bSVZ1DUjPh4I",
        "outputId": "10991ff2-a70f-4fcc-c03a-29f188e0f1b8"
      },
      "execution_count": null,
      "outputs": [
        {
          "output_type": "display_data",
          "data": {
            "text/plain": [
              "<Figure size 640x480 with 1 Axes>"
            ],
            "image/png": "[encoded data removed]"
          },
          "metadata": {}
        }
      ]
    },
    {
      "cell_type": "code",
      "source": [
        "import requests\n",
        "from bs4 import BeautifulSoup\n",
        "\n",
        "def get_stackoverflow_qa(url):\n",
        "    response = requests.get(url)\n",
        "    soup = BeautifulSoup(response.content, 'html.parser')\n",
        "\n",
        "    # Check if the question element exists before extracting text\n",
        "    question_element = soup.find('div', class_='post-text')\n",
        "    question = question_element.get_text().strip() if question_element else \"Question not found\"\n",
        "\n",
        "    # Check if the answer element exists before extracting text\n",
        "    answer_element = soup.find('div', class_='post-cell').find('div', class_='post-text') if soup.find('div', class_='post-cell') else None\n",
        "    best_answer = answer_element.get_text().strip() if answer_element else \"Answer not found\"\n",
        "\n",
        "    return question, best_answer\n",
        "\n",
        "url = 'https://stackoverflow.com/questions/79509507/mnist-dataset-file-structure'  # Example URL (replace with your URL)\n",
        "question, best_answer = get_stackoverflow_qa(url)\n",
        "print(f\"Question: {question}\")\n",
        "print(f\"Best Answer: {best_answer}\")"
      ],
      "metadata": {
        "colab": {
          "base_uri": "https://localhost:8080/"
        },
        "id": "YzuvjbCSPpNF",
        "outputId": "9ef97f37-9785-43f4-8486-b0d18b85ffa0"
      },
      "execution_count": null,
      "outputs": [
        {
          "output_type": "stream",
          "name": "stdout",
          "text": [
            "Question: Question not found\n",
            "Best Answer: Answer not found\n"
          ]
        }
      ]
    },
    {
      "cell_type": "code",
      "source": [
        "!pip install polyglot\n",
        "!pip install pycld2\n",
        "!pip install PyICU"
      ],
      "metadata": {
        "colab": {
          "base_uri": "https://localhost:8080/"
        },
        "id": "1niRtdsNQq60",
        "outputId": "0729bcc6-262d-4d6b-c74a-220ab91a83e0"
      },
      "execution_count": null,
      "outputs": [
        {
          "output_type": "stream",
          "name": "stdout",
          "text": [
            "Requirement already satisfied: polyglot in /usr/local/lib/python3.11/dist-packages (16.7.4)\n",
            "Collecting pycld2\n",
            "  Downloading pycld2-0.41.tar.gz (41.4 MB)\n",
            "\u001b[2K     \u001b[90m━━━━━━━━━━━━━━━━━━━━━━━━━━━━━━━━━━━━━━━━\u001b[0m \u001b[32m41.4/41.4 MB\u001b[0m \u001b[31m9.0 MB/s\u001b[0m eta \u001b[36m0:00:00\u001b[0m\n",
            "\u001b[?25h  Preparing metadata (setup.py) ... \u001b[?25l\u001b[?25hdone\n",
            "Building wheels for collected packages: pycld2\n",
            "  Building wheel for pycld2 (setup.py) ... \u001b[?25l\u001b[?25hdone\n",
            "  Created wheel for pycld2: filename=pycld2-0.41-cp311-cp311-linux_x86_64.whl size=9916407 sha256=4cf59fc7e4ef877165c149074a424778672b6d1b3e63bb629d18b29080a01e7f\n",
            "  Stored in directory: /root/.cache/pip/wheels/9a/71/a1/89cdc6ae2ecd7bb3bf67baee27a134f761b3e2922ea7fdfbcb\n",
            "Successfully built pycld2\n",
            "Installing collected packages: pycld2\n",
            "Successfully installed pycld2-0.41\n",
            "Collecting PyICU\n",
            "  Downloading PyICU-2.14.tar.gz (263 kB)\n",
            "\u001b[2K     \u001b[90m━━━━━━━━━━━━━━━━━━━━━━━━━━━━━━━━━━━━━━━━\u001b[0m \u001b[32m263.9/263.9 kB\u001b[0m \u001b[31m4.1 MB/s\u001b[0m eta \u001b[36m0:00:00\u001b[0m\n",
            "\u001b[?25h  Installing build dependencies ... \u001b[?25l\u001b[?25hdone\n",
            "  Getting requirements to build wheel ... \u001b[?25l\u001b[?25hdone\n",
            "  Preparing metadata (pyproject.toml) ... \u001b[?25l\u001b[?25hdone\n",
            "Building wheels for collected packages: PyICU\n",
            "  Building wheel for PyICU (pyproject.toml) ... \u001b[?25l\u001b[?25hdone\n",
            "  Created wheel for PyICU: filename=pyicu-2.14-cp311-cp311-linux_x86_64.whl size=1825008 sha256=fa7ce7daa7786ec2b5d54106d81ce1469223651865e399a7516749bbec4dff4c\n",
            "  Stored in directory: /root/.cache/pip/wheels/61/f8/dc/c70316d1bb1cae6cf19f17c673d2d198fadc78a6ee2b05091b\n",
            "Successfully built PyICU\n",
            "Installing collected packages: PyICU\n",
            "Successfully installed PyICU-2.14\n"
          ]
        }
      ]
    },
    {
      "cell_type": "code",
      "source": [
        "from polyglot.detect import Detector\n",
        "spanish_text = u\"\"\"¡Hola ! Mi nombre es Ana. Tengo veinticinco años. Vivo en Miami, Florida\"\"\"\n",
        "detector = Detector(spanish_text)\n",
        "print(detector.language)"
      ],
      "metadata": {
        "colab": {
          "base_uri": "https://localhost:8080/"
        },
        "id": "OaSnf5qGQRz6",
        "outputId": "235c7408-c829-4f51-8e1c-0187f3b3ad00"
      },
      "execution_count": null,
      "outputs": [
        {
          "output_type": "stream",
          "name": "stdout",
          "text": [
            "name: Spanish     code: es       confidence:  98.0 read bytes:   647\n"
          ]
        }
      ]
    },
    {
      "cell_type": "code",
      "source": [
        "from sklearn.feature_extraction.text import CountVectorizer, TfidfVectorizer\n",
        "import numpy as np\n",
        "\n",
        "# One-Hot Encoding\n",
        "def one_hot_encoding(text):\n",
        "    vectorizer = CountVectorizer(binary=True)\n",
        "    one_hot = vectorizer.fit_transform([text])\n",
        "    return one_hot.toarray()\n",
        "\n",
        "# Bag of Words (BOW)\n",
        "def bag_of_words(text):\n",
        "    vectorizer = CountVectorizer()\n",
        "    bow = vectorizer.fit_transform([text])\n",
        "    return bow.toarray()\n",
        "\n",
        "text = \"I love programming with Python and machine learning\"\n",
        "one_hot = one_hot_encoding(text)\n",
        "bow = bag_of_words(text)\n",
        "\n",
        "print(\"One-Hot Encoding:\", one_hot)\n",
        "print(\"Bag of Words:\", bow)"
      ],
      "metadata": {
        "colab": {
          "base_uri": "https://localhost:8080/"
        },
        "id": "PSFiwXjeQ4jP",
        "outputId": "985e93f6-7ad1-4579-abec-09d3dce3f852"
      },
      "execution_count": null,
      "outputs": [
        {
          "output_type": "stream",
          "name": "stdout",
          "text": [
            "One-Hot Encoding: [[1 1 1 1 1 1 1]]\n",
            "Bag of Words: [[1 1 1 1 1 1 1]]\n"
          ]
        }
      ]
    },
    {
      "cell_type": "code",
      "source": [
        "import spacy\n",
        "\n",
        "# Load a pre-trained spaCy model\n",
        "nlp = spacy.load(\"en_core_web_lg\")\n",
        "\n",
        "def get_word_vector(word):\n",
        "    token = nlp(word)\n",
        "    return token.vector\n",
        "\n",
        "word_vector = get_word_vector(\"machine\")\n",
        "print(\"Word Vector:\", word_vector)"
      ],
      "metadata": {
        "colab": {
          "base_uri": "https://localhost:8080/",
          "height": 408
        },
        "id": "WHZwLHBIQ80j",
        "outputId": "d8ba5bdb-3a83-4af6-e294-c567875b216d"
      },
      "execution_count": null,
      "outputs": [
        {
          "output_type": "error",
          "ename": "OSError",
          "evalue": "[E050] Can't find model 'en_core_web_lg'. It doesn't seem to be a Python package or a valid path to a data directory.",
          "traceback": [
            "\u001b[0;31m---------------------------------------------------------------------------\u001b[0m",
            "\u001b[0;31mOSError\u001b[0m                                   Traceback (most recent call last)",
            "\u001b[0;32m<ipython-input-26-da157fb2b603>\u001b[0m in \u001b[0;36m<cell line: 0>\u001b[0;34m()\u001b[0m\n\u001b[1;32m      2\u001b[0m \u001b[0;34m\u001b[0m\u001b[0m\n\u001b[1;32m      3\u001b[0m \u001b[0;31m# Load a pre-trained spaCy model\u001b[0m\u001b[0;34m\u001b[0m\u001b[0;34m\u001b[0m\u001b[0m\n\u001b[0;32m----> 4\u001b[0;31m \u001b[0mnlp\u001b[0m \u001b[0;34m=\u001b[0m \u001b[0mspacy\u001b[0m\u001b[0;34m.\u001b[0m\u001b[0mload\u001b[0m\u001b[0;34m(\u001b[0m\u001b[0;34m\"en_core_web_lg\"\u001b[0m\u001b[0;34m)\u001b[0m\u001b[0;34m\u001b[0m\u001b[0;34m\u001b[0m\u001b[0m\n\u001b[0m\u001b[1;32m      5\u001b[0m \u001b[0;34m\u001b[0m\u001b[0m\n\u001b[1;32m      6\u001b[0m \u001b[0;32mdef\u001b[0m \u001b[0mget_word_vector\u001b[0m\u001b[0;34m(\u001b[0m\u001b[0mword\u001b[0m\u001b[0;34m)\u001b[0m\u001b[0;34m:\u001b[0m\u001b[0;34m\u001b[0m\u001b[0;34m\u001b[0m\u001b[0m\n",
            "\u001b[0;32m/usr/local/lib/python3.11/dist-packages/spacy/__init__.py\u001b[0m in \u001b[0;36mload\u001b[0;34m(name, vocab, disable, enable, exclude, config)\u001b[0m\n\u001b[1;32m     49\u001b[0m     \u001b[0mRETURNS\u001b[0m \u001b[0;34m(\u001b[0m\u001b[0mLanguage\u001b[0m\u001b[0;34m)\u001b[0m\u001b[0;34m:\u001b[0m \u001b[0mThe\u001b[0m \u001b[0mloaded\u001b[0m \u001b[0mnlp\u001b[0m \u001b[0mobject\u001b[0m\u001b[0;34m.\u001b[0m\u001b[0;34m\u001b[0m\u001b[0;34m\u001b[0m\u001b[0m\n\u001b[1;32m     50\u001b[0m     \"\"\"\n\u001b[0;32m---> 51\u001b[0;31m     return util.load_model(\n\u001b[0m\u001b[1;32m     52\u001b[0m         \u001b[0mname\u001b[0m\u001b[0;34m,\u001b[0m\u001b[0;34m\u001b[0m\u001b[0;34m\u001b[0m\u001b[0m\n\u001b[1;32m     53\u001b[0m         \u001b[0mvocab\u001b[0m\u001b[0;34m=\u001b[0m\u001b[0mvocab\u001b[0m\u001b[0;34m,\u001b[0m\u001b[0;34m\u001b[0m\u001b[0;34m\u001b[0m\u001b[0m\n",
            "\u001b[0;32m/usr/local/lib/python3.11/dist-packages/spacy/util.py\u001b[0m in \u001b[0;36mload_model\u001b[0;34m(name, vocab, disable, enable, exclude, config)\u001b[0m\n\u001b[1;32m    470\u001b[0m     \u001b[0;32mif\u001b[0m \u001b[0mname\u001b[0m \u001b[0;32min\u001b[0m \u001b[0mOLD_MODEL_SHORTCUTS\u001b[0m\u001b[0;34m:\u001b[0m\u001b[0;34m\u001b[0m\u001b[0;34m\u001b[0m\u001b[0m\n\u001b[1;32m    471\u001b[0m         \u001b[0;32mraise\u001b[0m \u001b[0mIOError\u001b[0m\u001b[0;34m(\u001b[0m\u001b[0mErrors\u001b[0m\u001b[0;34m.\u001b[0m\u001b[0mE941\u001b[0m\u001b[0;34m.\u001b[0m\u001b[0mformat\u001b[0m\u001b[0;34m(\u001b[0m\u001b[0mname\u001b[0m\u001b[0;34m=\u001b[0m\u001b[0mname\u001b[0m\u001b[0;34m,\u001b[0m \u001b[0mfull\u001b[0m\u001b[0;34m=\u001b[0m\u001b[0mOLD_MODEL_SHORTCUTS\u001b[0m\u001b[0;34m[\u001b[0m\u001b[0mname\u001b[0m\u001b[0;34m]\u001b[0m\u001b[0;34m)\u001b[0m\u001b[0;34m)\u001b[0m  \u001b[0;31m# type: ignore[index]\u001b[0m\u001b[0;34m\u001b[0m\u001b[0;34m\u001b[0m\u001b[0m\n\u001b[0;32m--> 472\u001b[0;31m     \u001b[0;32mraise\u001b[0m \u001b[0mIOError\u001b[0m\u001b[0;34m(\u001b[0m\u001b[0mErrors\u001b[0m\u001b[0;34m.\u001b[0m\u001b[0mE050\u001b[0m\u001b[0;34m.\u001b[0m\u001b[0mformat\u001b[0m\u001b[0;34m(\u001b[0m\u001b[0mname\u001b[0m\u001b[0;34m=\u001b[0m\u001b[0mname\u001b[0m\u001b[0;34m)\u001b[0m\u001b[0;34m)\u001b[0m\u001b[0;34m\u001b[0m\u001b[0;34m\u001b[0m\u001b[0m\n\u001b[0m\u001b[1;32m    473\u001b[0m \u001b[0;34m\u001b[0m\u001b[0m\n\u001b[1;32m    474\u001b[0m \u001b[0;34m\u001b[0m\u001b[0m\n",
            "\u001b[0;31mOSError\u001b[0m: [E050] Can't find model 'en_core_web_lg'. It doesn't seem to be a Python package or a valid path to a data directory."
          ]
        }
      ]
    },
    {
      "cell_type": "code",
      "source": [
        "import spacy\n",
        "\n",
        "# Download the model if it's not already installed\n",
        "!python -m spacy download en_core_web_lg\n",
        "\n",
        "# Load pre-trained model\n",
        "nlp = spacy.load(\"en_core_web_lg\")\n",
        "\n",
        "def find_similar_words(word, top_n=5):\n",
        "    token = nlp(word)\n",
        "    similarities = []\n",
        "\n",
        "    # Iterate through the vocabulary of the model to find similar words\n",
        "    for vocab_word in nlp.vocab:\n",
        "        if vocab_word.has_vector:\n",
        "            similarity = token.similarity(vocab_word)\n",
        "            similarities.append((vocab_word.text, similarity))\n",
        "\n",
        "    # Sort by similarity and return top_n words\n",
        "    similarities.sort(key=lambda x: x[1], reverse=True)\n",
        "    return similarities[:top_n]\n",
        "\n",
        "similar_words = find_similar_words(\"computer\")\n",
        "print(\"Most Similar Words:\", similar_words)"
      ],
      "metadata": {
        "colab": {
          "base_uri": "https://localhost:8080/"
        },
        "id": "N89WJt_XRBcU",
        "outputId": "229e0b64-1d61-4d48-f37d-0796728b15b1"
      },
      "execution_count": null,
      "outputs": [
        {
          "output_type": "stream",
          "name": "stdout",
          "text": [
            "Collecting en-core-web-lg==3.7.1\n",
            "  Downloading https://github.com/explosion/spacy-models/releases/download/en_core_web_lg-3.7.1/en_core_web_lg-3.7.1-py3-none-any.whl (587.7 MB)\n",
            "\u001b[2K     \u001b[90m━━━━━━━━━━━━━━━━━━━━━━━━━━━━━━━━━━━━━━━━\u001b[0m \u001b[32m587.7/587.7 MB\u001b[0m \u001b[31m3.2 MB/s\u001b[0m eta \u001b[36m0:00:00\u001b[0m\n",
            "\u001b[?25hRequirement already satisfied: spacy<3.8.0,>=3.7.2 in /usr/local/lib/python3.11/dist-packages (from en-core-web-lg==3.7.1) (3.7.5)\n",
            "Requirement already satisfied: spacy-legacy<3.1.0,>=3.0.11 in /usr/local/lib/python3.11/dist-packages (from spacy<3.8.0,>=3.7.2->en-core-web-lg==3.7.1) (3.0.12)\n",
            "Requirement already satisfied: spacy-loggers<2.0.0,>=1.0.0 in /usr/local/lib/python3.11/dist-packages (from spacy<3.8.0,>=3.7.2->en-core-web-lg==3.7.1) (1.0.5)\n",
            "Requirement already satisfied: murmurhash<1.1.0,>=0.28.0 in /usr/local/lib/python3.11/dist-packages (from spacy<3.8.0,>=3.7.2->en-core-web-lg==3.7.1) (1.0.12)\n",
            "Requirement already satisfied: cymem<2.1.0,>=2.0.2 in /usr/local/lib/python3.11/dist-packages (from spacy<3.8.0,>=3.7.2->en-core-web-lg==3.7.1) (2.0.11)\n",
            "Requirement already satisfied: preshed<3.1.0,>=3.0.2 in /usr/local/lib/python3.11/dist-packages (from spacy<3.8.0,>=3.7.2->en-core-web-lg==3.7.1) (3.0.9)\n",
            "Requirement already satisfied: thinc<8.3.0,>=8.2.2 in /usr/local/lib/python3.11/dist-packages (from spacy<3.8.0,>=3.7.2->en-core-web-lg==3.7.1) (8.2.5)\n",
            "Requirement already satisfied: wasabi<1.2.0,>=0.9.1 in /usr/local/lib/python3.11/dist-packages (from spacy<3.8.0,>=3.7.2->en-core-web-lg==3.7.1) (1.1.3)\n",
            "Requirement already satisfied: srsly<3.0.0,>=2.4.3 in /usr/local/lib/python3.11/dist-packages (from spacy<3.8.0,>=3.7.2->en-core-web-lg==3.7.1) (2.5.1)\n",
            "Requirement already satisfied: catalogue<2.1.0,>=2.0.6 in /usr/local/lib/python3.11/dist-packages (from spacy<3.8.0,>=3.7.2->en-core-web-lg==3.7.1) (2.0.10)\n",
            "Requirement already satisfied: weasel<0.5.0,>=0.1.0 in /usr/local/lib/python3.11/dist-packages (from spacy<3.8.0,>=3.7.2->en-core-web-lg==3.7.1) (0.4.1)\n",
            "Requirement already satisfied: typer<1.0.0,>=0.3.0 in /usr/local/lib/python3.11/dist-packages (from spacy<3.8.0,>=3.7.2->en-core-web-lg==3.7.1) (0.15.2)\n",
            "Requirement already satisfied: tqdm<5.0.0,>=4.38.0 in /usr/local/lib/python3.11/dist-packages (from spacy<3.8.0,>=3.7.2->en-core-web-lg==3.7.1) (4.67.1)\n",
            "Requirement already satisfied: requests<3.0.0,>=2.13.0 in /usr/local/lib/python3.11/dist-packages (from spacy<3.8.0,>=3.7.2->en-core-web-lg==3.7.1) (2.32.3)\n",
            "Requirement already satisfied: pydantic!=1.8,!=1.8.1,<3.0.0,>=1.7.4 in /usr/local/lib/python3.11/dist-packages (from spacy<3.8.0,>=3.7.2->en-core-web-lg==3.7.1) (2.10.6)\n",
            "Requirement already satisfied: jinja2 in /usr/local/lib/python3.11/dist-packages (from spacy<3.8.0,>=3.7.2->en-core-web-lg==3.7.1) (3.1.6)\n",
            "Requirement already satisfied: setuptools in /usr/local/lib/python3.11/dist-packages (from spacy<3.8.0,>=3.7.2->en-core-web-lg==3.7.1) (75.1.0)\n",
            "Requirement already satisfied: packaging>=20.0 in /usr/local/lib/python3.11/dist-packages (from spacy<3.8.0,>=3.7.2->en-core-web-lg==3.7.1) (24.2)\n",
            "Requirement already satisfied: langcodes<4.0.0,>=3.2.0 in /usr/local/lib/python3.11/dist-packages (from spacy<3.8.0,>=3.7.2->en-core-web-lg==3.7.1) (3.5.0)\n",
            "Requirement already satisfied: numpy>=1.19.0 in /usr/local/lib/python3.11/dist-packages (from spacy<3.8.0,>=3.7.2->en-core-web-lg==3.7.1) (1.26.4)\n",
            "Requirement already satisfied: language-data>=1.2 in /usr/local/lib/python3.11/dist-packages (from langcodes<4.0.0,>=3.2.0->spacy<3.8.0,>=3.7.2->en-core-web-lg==3.7.1) (1.3.0)\n",
            "Requirement already satisfied: annotated-types>=0.6.0 in /usr/local/lib/python3.11/dist-packages (from pydantic!=1.8,!=1.8.1,<3.0.0,>=1.7.4->spacy<3.8.0,>=3.7.2->en-core-web-lg==3.7.1) (0.7.0)\n",
            "Requirement already satisfied: pydantic-core==2.27.2 in /usr/local/lib/python3.11/dist-packages (from pydantic!=1.8,!=1.8.1,<3.0.0,>=1.7.4->spacy<3.8.0,>=3.7.2->en-core-web-lg==3.7.1) (2.27.2)\n",
            "Requirement already satisfied: typing-extensions>=4.12.2 in /usr/local/lib/python3.11/dist-packages (from pydantic!=1.8,!=1.8.1,<3.0.0,>=1.7.4->spacy<3.8.0,>=3.7.2->en-core-web-lg==3.7.1) (4.12.2)\n",
            "Requirement already satisfied: charset-normalizer<4,>=2 in /usr/local/lib/python3.11/dist-packages (from requests<3.0.0,>=2.13.0->spacy<3.8.0,>=3.7.2->en-core-web-lg==3.7.1) (3.4.1)\n",
            "Requirement already satisfied: idna<4,>=2.5 in /usr/local/lib/python3.11/dist-packages (from requests<3.0.0,>=2.13.0->spacy<3.8.0,>=3.7.2->en-core-web-lg==3.7.1) (3.10)\n",
            "Requirement already satisfied: urllib3<3,>=1.21.1 in /usr/local/lib/python3.11/dist-packages (from requests<3.0.0,>=2.13.0->spacy<3.8.0,>=3.7.2->en-core-web-lg==3.7.1) (2.3.0)\n",
            "Requirement already satisfied: certifi>=2017.4.17 in /usr/local/lib/python3.11/dist-packages (from requests<3.0.0,>=2.13.0->spacy<3.8.0,>=3.7.2->en-core-web-lg==3.7.1) (2025.1.31)\n",
            "Requirement already satisfied: blis<0.8.0,>=0.7.8 in /usr/local/lib/python3.11/dist-packages (from thinc<8.3.0,>=8.2.2->spacy<3.8.0,>=3.7.2->en-core-web-lg==3.7.1) (0.7.11)\n",
            "Requirement already satisfied: confection<1.0.0,>=0.0.1 in /usr/local/lib/python3.11/dist-packages (from thinc<8.3.0,>=8.2.2->spacy<3.8.0,>=3.7.2->en-core-web-lg==3.7.1) (0.1.5)\n",
            "Requirement already satisfied: click>=8.0.0 in /usr/local/lib/python3.11/dist-packages (from typer<1.0.0,>=0.3.0->spacy<3.8.0,>=3.7.2->en-core-web-lg==3.7.1) (8.1.8)\n",
            "Requirement already satisfied: shellingham>=1.3.0 in /usr/local/lib/python3.11/dist-packages (from typer<1.0.0,>=0.3.0->spacy<3.8.0,>=3.7.2->en-core-web-lg==3.7.1) (1.5.4)\n",
            "Requirement already satisfied: rich>=10.11.0 in /usr/local/lib/python3.11/dist-packages (from typer<1.0.0,>=0.3.0->spacy<3.8.0,>=3.7.2->en-core-web-lg==3.7.1) (13.9.4)\n",
            "Requirement already satisfied: cloudpathlib<1.0.0,>=0.7.0 in /usr/local/lib/python3.11/dist-packages (from weasel<0.5.0,>=0.1.0->spacy<3.8.0,>=3.7.2->en-core-web-lg==3.7.1) (0.21.0)\n",
            "Requirement already satisfied: smart-open<8.0.0,>=5.2.1 in /usr/local/lib/python3.11/dist-packages (from weasel<0.5.0,>=0.1.0->spacy<3.8.0,>=3.7.2->en-core-web-lg==3.7.1) (7.1.0)\n",
            "Requirement already satisfied: MarkupSafe>=2.0 in /usr/local/lib/python3.11/dist-packages (from jinja2->spacy<3.8.0,>=3.7.2->en-core-web-lg==3.7.1) (3.0.2)\n",
            "Requirement already satisfied: marisa-trie>=1.1.0 in /usr/local/lib/python3.11/dist-packages (from language-data>=1.2->langcodes<4.0.0,>=3.2.0->spacy<3.8.0,>=3.7.2->en-core-web-lg==3.7.1) (1.2.1)\n",
            "Requirement already satisfied: markdown-it-py>=2.2.0 in /usr/local/lib/python3.11/dist-packages (from rich>=10.11.0->typer<1.0.0,>=0.3.0->spacy<3.8.0,>=3.7.2->en-core-web-lg==3.7.1) (3.0.0)\n",
            "Requirement already satisfied: pygments<3.0.0,>=2.13.0 in /usr/local/lib/python3.11/dist-packages (from rich>=10.11.0->typer<1.0.0,>=0.3.0->spacy<3.8.0,>=3.7.2->en-core-web-lg==3.7.1) (2.18.0)\n",
            "Requirement already satisfied: wrapt in /usr/local/lib/python3.11/dist-packages (from smart-open<8.0.0,>=5.2.1->weasel<0.5.0,>=0.1.0->spacy<3.8.0,>=3.7.2->en-core-web-lg==3.7.1) (1.17.2)\n",
            "Requirement already satisfied: mdurl~=0.1 in /usr/local/lib/python3.11/dist-packages (from markdown-it-py>=2.2.0->rich>=10.11.0->typer<1.0.0,>=0.3.0->spacy<3.8.0,>=3.7.2->en-core-web-lg==3.7.1) (0.1.2)\n",
            "Installing collected packages: en-core-web-lg\n",
            "Successfully installed en-core-web-lg-3.7.1\n",
            "\u001b[38;5;2m✔ Download and installation successful\u001b[0m\n",
            "You can now load the package via spacy.load('en_core_web_lg')\n",
            "\u001b[38;5;3m⚠ Restart to reload dependencies\u001b[0m\n",
            "If you are in a Jupyter or Colab notebook, you may need to restart Python in\n",
            "order to load all the package's dependencies. You can do this by selecting the\n",
            "'Restart kernel' or 'Restart runtime' option.\n",
            "Most Similar Words: [('computer', 1.0), ('space', 0.43300797102304606), ('that', 0.4304858982940327), ('and/or', 0.38814061731250477), ('and', 0.37512833237669996)]\n"
          ]
        }
      ]
    },
    {
      "cell_type": "code",
      "source": [
        "! pip install googletrans"
      ],
      "metadata": {
        "colab": {
          "base_uri": "https://localhost:8080/"
        },
        "id": "fBlG2c2rRJhw",
        "outputId": "580e8efe-336f-4b7d-87bb-34211c683283"
      },
      "execution_count": null,
      "outputs": [
        {
          "output_type": "stream",
          "name": "stdout",
          "text": [
            "Collecting googletrans\n",
            "  Downloading googletrans-4.0.2-py3-none-any.whl.metadata (10 kB)\n",
            "Requirement already satisfied: httpx>=0.27.2 in /usr/local/lib/python3.11/dist-packages (from httpx[http2]>=0.27.2->googletrans) (0.28.1)\n",
            "Requirement already satisfied: anyio in /usr/local/lib/python3.11/dist-packages (from httpx>=0.27.2->httpx[http2]>=0.27.2->googletrans) (3.7.1)\n",
            "Requirement already satisfied: certifi in /usr/local/lib/python3.11/dist-packages (from httpx>=0.27.2->httpx[http2]>=0.27.2->googletrans) (2025.1.31)\n",
            "Requirement already satisfied: httpcore==1.* in /usr/local/lib/python3.11/dist-packages (from httpx>=0.27.2->httpx[http2]>=0.27.2->googletrans) (1.0.7)\n",
            "Requirement already satisfied: idna in /usr/local/lib/python3.11/dist-packages (from httpx>=0.27.2->httpx[http2]>=0.27.2->googletrans) (3.10)\n",
            "Requirement already satisfied: h11<0.15,>=0.13 in /usr/local/lib/python3.11/dist-packages (from httpcore==1.*->httpx>=0.27.2->httpx[http2]>=0.27.2->googletrans) (0.14.0)\n",
            "Requirement already satisfied: h2<5,>=3 in /usr/local/lib/python3.11/dist-packages (from httpx[http2]>=0.27.2->googletrans) (4.2.0)\n",
            "Requirement already satisfied: hyperframe<7,>=6.1 in /usr/local/lib/python3.11/dist-packages (from h2<5,>=3->httpx[http2]>=0.27.2->googletrans) (6.1.0)\n",
            "Requirement already satisfied: hpack<5,>=4.1 in /usr/local/lib/python3.11/dist-packages (from h2<5,>=3->httpx[http2]>=0.27.2->googletrans) (4.1.0)\n",
            "Requirement already satisfied: sniffio>=1.1 in /usr/local/lib/python3.11/dist-packages (from anyio->httpx>=0.27.2->httpx[http2]>=0.27.2->googletrans) (1.3.1)\n",
            "Downloading googletrans-4.0.2-py3-none-any.whl (18 kB)\n",
            "Installing collected packages: googletrans\n",
            "Successfully installed googletrans-4.0.2\n"
          ]
        }
      ]
    },
    {
      "cell_type": "code",
      "source": [
        "from googletrans import Translator\n",
        "import asyncio\n",
        "from concurrent.futures import ThreadPoolExecutor\n",
        "\n",
        "# Function to perform back translation (synchronous version)\n",
        "def back_translation(text, src_lang='en', intermediate_lang='es'):\n",
        "    translator = Translator()\n",
        "\n",
        "    # Step 1: Translate to the intermediate language (e.g., Spanish)\n",
        "    translated = translator.translate(text, src=src_lang, dest=intermediate_lang)\n",
        "    translated_text = translated.text\n",
        "\n",
        "    # Step 2: Translate back to the original language (e.g., English)\n",
        "    back_translated = translator.translate(translated_text, src=intermediate_lang, dest=src_lang)\n",
        "    back_translated_text = back_translated.text\n",
        "\n",
        "    return back_translated_text\n",
        "\n",
        "# Asynchronous function to execute translation in a separate thread\n",
        "async def async_back_translation(text):\n",
        "    loop = asyncio.get_event_loop()\n",
        "    # Use ThreadPoolExecutor to run the blocking code in a separate thread\n",
        "    with ThreadPoolExecutor() as pool:\n",
        "        result = await loop.run_in_executor(pool, back_translation, text)\n",
        "    return result\n",
        "\n",
        "# Example usage\n",
        "async def main():\n",
        "    text = \"I love programming and learning new technologies.\"\n",
        "    generated_text = await async_back_translation(text)\n",
        "    print(\"Original Text:\", text)\n",
        "    print(\"Back Translated Text:\", generated_text)\n",
        "\n",
        "# Run the asynchronous code using asyncio.run() in VS Code\n",
        "if __name__ == \"__main__\":\n",
        "    asyncio.run(main())"
      ],
      "metadata": {
        "colab": {
          "base_uri": "https://localhost:8080/",
          "height": 321
        },
        "id": "k30DTCiNRD6Z",
        "outputId": "6afdb670-4df3-4213-8f82-83fee1991948"
      },
      "execution_count": null,
      "outputs": [
        {
          "output_type": "error",
          "ename": "AttributeError",
          "evalue": "'coroutine' object has no attribute 'text'",
          "traceback": [
            "\u001b[0;31m---------------------------------------------------------------------------\u001b[0m",
            "\u001b[0;31mAttributeError\u001b[0m                            Traceback (most recent call last)",
            "\u001b[0;32m<ipython-input-35-c52e93d70181>\u001b[0m in \u001b[0;36m<cell line: 1>\u001b[0;34m()\u001b[0m\n\u001b[1;32m     33\u001b[0m \u001b[0;34m\u001b[0m\u001b[0m\n\u001b[1;32m     34\u001b[0m \u001b[0;31m# Run the asynchronous code using await instead of asyncio.run()\u001b[0m\u001b[0;34m\u001b[0m\u001b[0;34m\u001b[0m\u001b[0m\n\u001b[0;32m---> 35\u001b[0;31m \u001b[0;32mawait\u001b[0m \u001b[0mmain\u001b[0m\u001b[0;34m(\u001b[0m\u001b[0;34m)\u001b[0m\u001b[0;34m\u001b[0m\u001b[0;34m\u001b[0m\u001b[0m\n\u001b[0m",
            "\u001b[0;32m<ipython-input-35-c52e93d70181>\u001b[0m in \u001b[0;36mmain\u001b[0;34m()\u001b[0m\n\u001b[1;32m     28\u001b[0m \u001b[0;32masync\u001b[0m \u001b[0;32mdef\u001b[0m \u001b[0mmain\u001b[0m\u001b[0;34m(\u001b[0m\u001b[0;34m)\u001b[0m\u001b[0;34m:\u001b[0m\u001b[0;34m\u001b[0m\u001b[0;34m\u001b[0m\u001b[0m\n\u001b[1;32m     29\u001b[0m     \u001b[0mtext\u001b[0m \u001b[0;34m=\u001b[0m \u001b[0;34m\"I love programming and learning new technologies.\"\u001b[0m\u001b[0;34m\u001b[0m\u001b[0;34m\u001b[0m\u001b[0m\n\u001b[0;32m---> 30\u001b[0;31m     \u001b[0mgenerated_text\u001b[0m \u001b[0;34m=\u001b[0m \u001b[0;32mawait\u001b[0m \u001b[0masync_back_translation\u001b[0m\u001b[0;34m(\u001b[0m\u001b[0mtext\u001b[0m\u001b[0;34m)\u001b[0m\u001b[0;34m\u001b[0m\u001b[0;34m\u001b[0m\u001b[0m\n\u001b[0m\u001b[1;32m     31\u001b[0m     \u001b[0mprint\u001b[0m\u001b[0;34m(\u001b[0m\u001b[0;34m\"Original Text:\"\u001b[0m\u001b[0;34m,\u001b[0m \u001b[0mtext\u001b[0m\u001b[0;34m)\u001b[0m\u001b[0;34m\u001b[0m\u001b[0;34m\u001b[0m\u001b[0m\n\u001b[1;32m     32\u001b[0m     \u001b[0mprint\u001b[0m\u001b[0;34m(\u001b[0m\u001b[0;34m\"Back Translated Text:\"\u001b[0m\u001b[0;34m,\u001b[0m \u001b[0mgenerated_text\u001b[0m\u001b[0;34m)\u001b[0m\u001b[0;34m\u001b[0m\u001b[0;34m\u001b[0m\u001b[0m\n",
            "\u001b[0;32m<ipython-input-35-c52e93d70181>\u001b[0m in \u001b[0;36masync_back_translation\u001b[0;34m(text)\u001b[0m\n\u001b[1;32m     22\u001b[0m     \u001b[0;31m# Use ThreadPoolExecutor to run the blocking code in a separate thread\u001b[0m\u001b[0;34m\u001b[0m\u001b[0;34m\u001b[0m\u001b[0m\n\u001b[1;32m     23\u001b[0m     \u001b[0;32mwith\u001b[0m \u001b[0mThreadPoolExecutor\u001b[0m\u001b[0;34m(\u001b[0m\u001b[0;34m)\u001b[0m \u001b[0;32mas\u001b[0m \u001b[0mpool\u001b[0m\u001b[0;34m:\u001b[0m\u001b[0;34m\u001b[0m\u001b[0;34m\u001b[0m\u001b[0m\n\u001b[0;32m---> 24\u001b[0;31m         \u001b[0mresult\u001b[0m \u001b[0;34m=\u001b[0m \u001b[0;32mawait\u001b[0m \u001b[0mloop\u001b[0m\u001b[0;34m.\u001b[0m\u001b[0mrun_in_executor\u001b[0m\u001b[0;34m(\u001b[0m\u001b[0mpool\u001b[0m\u001b[0;34m,\u001b[0m \u001b[0mback_translation\u001b[0m\u001b[0;34m,\u001b[0m \u001b[0mtext\u001b[0m\u001b[0;34m)\u001b[0m\u001b[0;34m\u001b[0m\u001b[0;34m\u001b[0m\u001b[0m\n\u001b[0m\u001b[1;32m     25\u001b[0m     \u001b[0;32mreturn\u001b[0m \u001b[0mresult\u001b[0m\u001b[0;34m\u001b[0m\u001b[0;34m\u001b[0m\u001b[0m\n\u001b[1;32m     26\u001b[0m \u001b[0;34m\u001b[0m\u001b[0m\n",
            "\u001b[0;32m/usr/lib/python3.11/concurrent/futures/thread.py\u001b[0m in \u001b[0;36mrun\u001b[0;34m(self)\u001b[0m\n\u001b[1;32m     56\u001b[0m \u001b[0;34m\u001b[0m\u001b[0m\n\u001b[1;32m     57\u001b[0m         \u001b[0;32mtry\u001b[0m\u001b[0;34m:\u001b[0m\u001b[0;34m\u001b[0m\u001b[0;34m\u001b[0m\u001b[0m\n\u001b[0;32m---> 58\u001b[0;31m             \u001b[0mresult\u001b[0m \u001b[0;34m=\u001b[0m \u001b[0mself\u001b[0m\u001b[0;34m.\u001b[0m\u001b[0mfn\u001b[0m\u001b[0;34m(\u001b[0m\u001b[0;34m*\u001b[0m\u001b[0mself\u001b[0m\u001b[0;34m.\u001b[0m\u001b[0margs\u001b[0m\u001b[0;34m,\u001b[0m \u001b[0;34m**\u001b[0m\u001b[0mself\u001b[0m\u001b[0;34m.\u001b[0m\u001b[0mkwargs\u001b[0m\u001b[0;34m)\u001b[0m\u001b[0;34m\u001b[0m\u001b[0;34m\u001b[0m\u001b[0m\n\u001b[0m\u001b[1;32m     59\u001b[0m         \u001b[0;32mexcept\u001b[0m \u001b[0mBaseException\u001b[0m \u001b[0;32mas\u001b[0m \u001b[0mexc\u001b[0m\u001b[0;34m:\u001b[0m\u001b[0;34m\u001b[0m\u001b[0;34m\u001b[0m\u001b[0m\n\u001b[1;32m     60\u001b[0m             \u001b[0mself\u001b[0m\u001b[0;34m.\u001b[0m\u001b[0mfuture\u001b[0m\u001b[0;34m.\u001b[0m\u001b[0mset_exception\u001b[0m\u001b[0;34m(\u001b[0m\u001b[0mexc\u001b[0m\u001b[0;34m)\u001b[0m\u001b[0;34m\u001b[0m\u001b[0;34m\u001b[0m\u001b[0m\n",
            "\u001b[0;32m<ipython-input-35-c52e93d70181>\u001b[0m in \u001b[0;36mback_translation\u001b[0;34m(text, src_lang, intermediate_lang)\u001b[0m\n\u001b[1;32m      9\u001b[0m     \u001b[0;31m# Step 1: Translate to the intermediate language (e.g., Spanish)\u001b[0m\u001b[0;34m\u001b[0m\u001b[0;34m\u001b[0m\u001b[0m\n\u001b[1;32m     10\u001b[0m     \u001b[0mtranslated\u001b[0m \u001b[0;34m=\u001b[0m \u001b[0mtranslator\u001b[0m\u001b[0;34m.\u001b[0m\u001b[0mtranslate\u001b[0m\u001b[0;34m(\u001b[0m\u001b[0mtext\u001b[0m\u001b[0;34m,\u001b[0m \u001b[0msrc\u001b[0m\u001b[0;34m=\u001b[0m\u001b[0msrc_lang\u001b[0m\u001b[0;34m,\u001b[0m \u001b[0mdest\u001b[0m\u001b[0;34m=\u001b[0m\u001b[0mintermediate_lang\u001b[0m\u001b[0;34m)\u001b[0m\u001b[0;34m\u001b[0m\u001b[0;34m\u001b[0m\u001b[0m\n\u001b[0;32m---> 11\u001b[0;31m     \u001b[0mtranslated_text\u001b[0m \u001b[0;34m=\u001b[0m \u001b[0mtranslated\u001b[0m\u001b[0;34m.\u001b[0m\u001b[0mtext\u001b[0m\u001b[0;34m\u001b[0m\u001b[0;34m\u001b[0m\u001b[0m\n\u001b[0m\u001b[1;32m     12\u001b[0m \u001b[0;34m\u001b[0m\u001b[0m\n\u001b[1;32m     13\u001b[0m     \u001b[0;31m# Step 2: Translate back to the original language (e.g., English)\u001b[0m\u001b[0;34m\u001b[0m\u001b[0;34m\u001b[0m\u001b[0m\n",
            "\u001b[0;31mAttributeError\u001b[0m: 'coroutine' object has no attribute 'text'"
          ]
        }
      ]
    }
  ]
}